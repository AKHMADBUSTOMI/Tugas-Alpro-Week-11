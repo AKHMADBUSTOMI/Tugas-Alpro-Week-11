{
 "cells": [
  {
   "cell_type": "markdown",
   "id": "31fdef97-03a2-40bb-835d-a98a17776923",
   "metadata": {},
   "source": [
    "## NAMA : AKHMAD BUSTOMI\n",
    "## NIM : 103102400021\n",
    "## PRODI : SAINS DATA\n",
    "## FAKULTAS : INFORMATIKA\n",
    "## KELAS : DS - 04 - 02"
   ]
  },
  {
   "cell_type": "markdown",
   "id": "e658211a-7d18-413e-a34c-0449ba2bb3c6",
   "metadata": {},
   "source": [
    "# Minggu 1\n",
    "# Pengantar Pemrograman, Komputer dan Algoritma"
   ]
  },
  {
   "cell_type": "markdown",
   "id": "437390c7-4066-4de0-bc3b-47edd1b88aac",
   "metadata": {},
   "source": [
    "1. PEMROGRAMAN : Proses membangun sebuah programkomputer yang dapat dieksekusi oleh komputer untuk tugas tertentu.\n",
    "2. Program Komputer : Program komputer berisi kumpulan instruksi untuk memanfaatkan sumber daya yang ada pad komputer.\n",
    "3. Bahasa Pemrograman : Media berkomunikasi dengan komputer yang terdiri dari lexis (kosakata) serta syntax (aturan) penyusunan kata-kata tersebut untuk menjadi sebuah instruction (kalimat) yang valid.\n",
    "\n",
    "Algoritma adalah urutan instruksi yang jika diikuti dapat digunakan untuk mencapai suatu tujuan tertentu atau menyelesaikan suatu masalah.\n",
    "\n",
    "# Contoh Type Data dan Operator Phyton :"
   ]
  },
  {
   "cell_type": "code",
   "execution_count": 4,
   "id": "56edd85b-5720-4b4f-898b-b99fccd7ba85",
   "metadata": {},
   "outputs": [
    {
     "name": "stdout",
     "output_type": "stream",
     "text": [
      "Hello World\n"
     ]
    }
   ],
   "source": [
    "print(\"Hello World\")"
   ]
  },
  {
   "cell_type": "code",
   "execution_count": 7,
   "id": "37a9fd08-8b71-4442-8329-75ebf53c180d",
   "metadata": {},
   "outputs": [
    {
     "name": "stdout",
     "output_type": "stream",
     "text": [
      "Hello, World!\n"
     ]
    }
   ],
   "source": [
    "print(f\"Hello, World!\")"
   ]
  },
  {
   "cell_type": "code",
   "execution_count": 9,
   "id": "a4ad528b-71f0-4aae-9525-2765e2631728",
   "metadata": {},
   "outputs": [
    {
     "name": "stdout",
     "output_type": "stream",
     "text": [
      "Komentar tidak akan mengeluarkan output apapun\n"
     ]
    }
   ],
   "source": [
    "\"\"\"\n",
    "ini juga komentar gaes, tapi bisa banyak baris\n",
    "ini juga komentar gaes, tapi bisa banyak baris\n",
    "ini juga komentar gaes, tapi bisa banyak baris\n",
    "ini juga komentar gaes, tapi bisa banyak baris\n",
    "\"\"\"\n",
    "\n",
    "print(\"Komentar tidak akan mengeluarkan output apapun\")"
   ]
  },
  {
   "cell_type": "markdown",
   "id": "43a6ff52-56da-40a2-b09a-12815128e30c",
   "metadata": {},
   "source": [
    "# Minggu 2\n",
    "## Jenis Tipe Data/Variabel :\r\n",
    "1. Integer\r\n",
    "2. Float\r\n",
    "3. String\r\n",
    "4. Boo\n",
    "   \n",
    "Input merupakan fungsi yang digunakan untuk memasukkan nilai\r\n",
    "variabel secara dinami:.\r\n",
    "• Variabel yang diinputkan secara manual, disimpan dalam\r\n",
    "komputer dengan tipe data String.\r\n",
    "• Sehingga jika ingin mengubah ke bentuk tipe data lain harus ada\r\n",
    "konversi terhadap variabel inputan tersebut.\r\n",
    "• Syntax Python untuk inputan variabel yakni dengan fungsi\r\n",
    "input()input()lean"
   ]
  },
  {
   "cell_type": "code",
   "execution_count": 14,
   "id": "0a2aeb6e-c051-4475-bc2e-b809cd78a7c3",
   "metadata": {},
   "outputs": [],
   "source": [
    "# Variabel\n",
    "Nama = \"Tomi\"\n",
    "umur = 18\n",
    "status_pernikahan = \"Belum Menikah\"\n",
    "statuspernikahan = \"Menikah\""
   ]
  },
  {
   "cell_type": "code",
   "execution_count": 17,
   "id": "cd914a96-09bf-48d8-946a-f1c88e82cd48",
   "metadata": {},
   "outputs": [
    {
     "name": "stdout",
     "output_type": "stream",
     "text": [
      "Nama: Tomi dan umur: 18\n",
      "Nama: Tomi dan umur: 18\n",
      "\n",
      "\n",
      "Rendika\n",
      "dan\n",
      "sayyid\n"
     ]
    }
   ],
   "source": [
    "# Tipe data\n",
    "bilangan_bulat = 10\n",
    "bilangan_desimal = 3.14\n",
    "teks = \"Halo, dunia!\"\n",
    "teks_multibaris = '''Rendika\n",
    "dan\n",
    "sayyid'''\n",
    "boolean = True\n",
    "\n",
    "# Menampilkan nilai variabel\n",
    "print('Nama:', Nama, 'dan umur:', umur)\n",
    "print(f\"Nama: {Nama} dan umur: {umur}\")\n",
    "print('\\n')\n",
    "print(teks_multibaris)"
   ]
  },
  {
   "cell_type": "markdown",
   "id": "17c16ab1-efaa-4a96-a568-defcc5265ddd",
   "metadata": {},
   "source": [
    "# Minggu 3\n",
    "## Variable, Input Output, Assignment, Tipe Data dan Operasi\n",
    "\n",
    "Variabel adalah suatu lokasi memori yang telah diberi nama\n",
    "Assignment adalah instruksi menyalin data ke dalam variabel\n",
    "Variabel harus dideklarasikan dulu sebelum digunakan.\n",
    "Variabel juga harus diinisialisasi dulu (diisi data) agar nilai yang tersimpan diketahui dengan jelas dan eksekusi algoritma menjadi terprediksi.\n",
    "\n",
    "a + b : Operasi penjumlahan a dengan b\n",
    "a - b : Operasi pengurangan a oleh b\n",
    "a*b   : Operasi perkalian a sebanyak b\n",
    "a / b : Operasi pembagian a oleh b\n",
    "\n",
    "KETETAPAN MATEMATIKA:\r\n",
    "• Ketetapan matematika merupakan method yang digunakan untuk\r\n",
    "mendeklarasikan parameter asli dari nilai eksak matematika.\r\n",
    "• Contoh ketetapan matematika adalah 𝜋, 𝑒, 𝜏, 𝑠𝑖𝑛, 𝑐𝑜𝑠,𝑡𝑎𝑛\r\n",
    "• Method matematika harus di import terlebih dahulu ke console\r\n",
    "Python. Yakni dengan syntac import\n",
    "\n",
    "Di dalam komputer, bilangan bulat dan pecahan desimal direpresentasikan\r\n",
    "dengan sangat berbeda!\r\n",
    "• Kami mengatakan bahwa pecahan desimal dan bilangan bulat adalah dua tipe\r\n",
    "data yang berbeda.\r\n",
    "• Tipe data suatu objek menentukan nilai apa yang dapat dimilikinya dan operasi\r\n",
    "apa yang dapat dilakukan padanya.\r\n",
    "• Bilangan bulat direpresentasikan menggunakan tipe data integer (singkatnya\r\n",
    "int).\r\n",
    "• Nilai-nilai ini dapat berupa bilangan bulat positif atau \n",
    "\n",
    "Untuk mengakses rutin package sqrt, kita perlu mengaksesnya\r\n",
    "sebagai math.sqrt(x).\r\n",
    "• Menggunakan notasi titik ini memberi tahu Python untuk\r\n",
    "menggunakan fungsi sqrt yang ditemukan di modul\r\n",
    "perpustakaan matematika.\r\n",
    "• Untuk menghitung akar (sqrt), kamu bisa pakai fungsi\r\n",
    "discRoot = math.sqrt(b*b – 4*a*c)negatif. math\n",
    "\n",
    "## Contoh Ekspresi Persamaan Matematika :"
   ]
  },
  {
   "cell_type": "markdown",
   "id": "d5e7f8f0-f1a6-4788-bf64-34cabe4ea98b",
   "metadata": {},
   "source": [
    "### 1. PENJUMLAHAN SEDERHANA"
   ]
  },
  {
   "cell_type": "code",
   "execution_count": 24,
   "id": "65144dff-5430-454a-be33-fd5e54293937",
   "metadata": {},
   "outputs": [
    {
     "name": "stdin",
     "output_type": "stream",
     "text": [
      "Masukkan bilangan pertama:  77\n",
      "Masukkan bilangan kedua:  99\n"
     ]
    },
    {
     "name": "stdout",
     "output_type": "stream",
     "text": [
      "Hasil penjumlahan: 176.0\n"
     ]
    }
   ],
   "source": [
    "# Input bilangan dari pengguna\n",
    "bilangan1 = float(input(\"Masukkan bilangan pertama: \"))\n",
    "bilangan2 = float(input(\"Masukkan bilangan kedua: \"))\n",
    "\n",
    "# Hitung penjumlahan\n",
    "hasil = bilangan1 + bilangan2\n",
    "\n",
    "# Cetak hasil\n",
    "print(\"Hasil penjumlahan:\", hasil)"
   ]
  },
  {
   "cell_type": "markdown",
   "id": "ca919104-ba3b-4b38-a380-9ce633f39f5e",
   "metadata": {},
   "source": [
    "## 2. Pangkat (Eksponensial)"
   ]
  },
  {
   "cell_type": "code",
   "execution_count": 27,
   "id": "84137b55-9a09-4e67-8846-ab6fd64c0aa8",
   "metadata": {},
   "outputs": [
    {
     "name": "stdin",
     "output_type": "stream",
     "text": [
      "Masukkan basis:  55\n",
      "Masukkan eksponen:  2\n"
     ]
    },
    {
     "name": "stdout",
     "output_type": "stream",
     "text": [
      "Hasil pangkat: 3025.0\n"
     ]
    }
   ],
   "source": [
    "# Input basis dan eksponen dari pengguna\n",
    "basis = float(input(\"Masukkan basis: \"))\n",
    "eksponen = float(input(\"Masukkan eksponen: \"))\n",
    "\n",
    "# Hitung hasil pangkat\n",
    "hasil = basis ** eksponen\n",
    "\n",
    "# Cetak hasil\n",
    "print(\"Hasil pangkat:\", hasil)"
   ]
  },
  {
   "cell_type": "markdown",
   "id": "b02665e9-5a83-4f7a-aaab-b34b1d993719",
   "metadata": {},
   "source": [
    "## 3. Sisa Bagi (Modulo)"
   ]
  },
  {
   "cell_type": "code",
   "execution_count": 30,
   "id": "a101d6de-5acd-4302-b058-702da9307feb",
   "metadata": {},
   "outputs": [
    {
     "name": "stdin",
     "output_type": "stream",
     "text": [
      "Masukkan bilangan pertama (integer):  23\n",
      "Masukkan bilangan kedua (integer):  18\n"
     ]
    },
    {
     "name": "stdout",
     "output_type": "stream",
     "text": [
      "Sisa bagi: 5\n"
     ]
    }
   ],
   "source": [
    "# Input bilangan dari pengguna\n",
    "bilangan1 = int(input(\"Masukkan bilangan pertama (integer): \"))\n",
    "bilangan2 = int(input(\"Masukkan bilangan kedua (integer): \"))\n",
    "\n",
    "# Hitung sisa bagi\n",
    "hasil = bilangan1 % bilangan2\n",
    "\n",
    "# Cetak hasil\n",
    "print(\"Sisa bagi:\", hasil)"
   ]
  },
  {
   "cell_type": "markdown",
   "id": "1ef282b9-9b78-4ef6-a466-dc32db4d5af1",
   "metadata": {},
   "source": [
    "## 4. Akar Kuadrat (math.sqrt)"
   ]
  },
  {
   "cell_type": "code",
   "execution_count": 33,
   "id": "ecef3e9b-3ffa-4d22-8b2d-01d4b8248111",
   "metadata": {},
   "outputs": [
    {
     "name": "stdin",
     "output_type": "stream",
     "text": [
      "Masukkan bilangan:  9\n"
     ]
    },
    {
     "name": "stdout",
     "output_type": "stream",
     "text": [
      "Akar kuadrat: 3.0\n"
     ]
    }
   ],
   "source": [
    "import math\n",
    "\n",
    "# Input bilangan dari pengguna\n",
    "bilangan = float(input(\"Masukkan bilangan: \"))\n",
    "\n",
    "# Hitung akar kuadrat\n",
    "hasil = math.sqrt(bilangan)\n",
    "\n",
    "# Cetak hasil\n",
    "print(\"Akar kuadrat:\", hasil)"
   ]
  },
  {
   "cell_type": "markdown",
   "id": "887aeb95-c1da-469d-b724-fb278cf6387f",
   "metadata": {},
   "source": [
    "## 5. Luas Segitiga"
   ]
  },
  {
   "cell_type": "code",
   "execution_count": 41,
   "id": "e76e2d5c-dba5-44c0-83b4-19cf3f7b098a",
   "metadata": {},
   "outputs": [
    {
     "name": "stdin",
     "output_type": "stream",
     "text": [
      "Masukkan tinggi segitiga:  5\n",
      "Masukkan alas segitiga:  4\n"
     ]
    },
    {
     "name": "stdout",
     "output_type": "stream",
     "text": [
      "Luas segitiga: 10.0\n"
     ]
    }
   ],
   "source": [
    "# Input tinggi dan alas segitiga dari pengguna\n",
    "tinggi = float(input(\"Masukkan tinggi segitiga: \"))\n",
    "alas = float(input(\"Masukkan alas segitiga: \"))\n",
    "\n",
    "# Hitung luas segitiga\n",
    "luas = 0.5 * tinggi * alas\n",
    "\n",
    "# Cetak hasil\n",
    "print(\"Luas segitiga:\", luas)"
   ]
  },
  {
   "cell_type": "markdown",
   "id": "aed00eab-0abb-4aa5-8e5f-ff74082d7bd7",
   "metadata": {},
   "source": [
    "## 6. Konversi satuan panjang"
   ]
  },
  {
   "cell_type": "code",
   "execution_count": 43,
   "id": "44f2c1fe-0664-44b3-be03-30429457f9d4",
   "metadata": {},
   "outputs": [
    {
     "name": "stdin",
     "output_type": "stream",
     "text": [
      "Masukkan panjang dalam meter:  5\n"
     ]
    },
    {
     "name": "stdout",
     "output_type": "stream",
     "text": [
      "Panjang dalam kilometer: 0.005\n",
      "Panjang dalam sentimeter: 500.0\n"
     ]
    }
   ],
   "source": [
    "# Input panjang dalam meter dari pengguna\n",
    "panjang_meter = float(input(\"Masukkan panjang dalam meter: \"))\n",
    "\n",
    "# Konversi panjang ke kilometer dan sentimeter\n",
    "panjang_kilometer = panjang_meter / 1000\n",
    "panjang_sentimeter = panjang_meter * 100\n",
    "\n",
    "# Cetak hasil\n",
    "print(\"Panjang dalam kilometer:\", panjang_kilometer)\n",
    "print(\"Panjang dalam sentimeter:\", panjang_sentimeter)"
   ]
  },
  {
   "cell_type": "markdown",
   "id": "926b6bb2-dcf1-48e2-ac90-c57cea11781f",
   "metadata": {},
   "source": [
    "## 7. Bilangan Faktorial"
   ]
  },
  {
   "cell_type": "code",
   "execution_count": 46,
   "id": "775c439f-0405-4837-b069-958a685db4d1",
   "metadata": {},
   "outputs": [
    {
     "name": "stdin",
     "output_type": "stream",
     "text": [
      "Masukkan bilangan bulat positif:  5\n"
     ]
    },
    {
     "name": "stdout",
     "output_type": "stream",
     "text": [
      "Faktorial dari 5 adalah 120\n"
     ]
    }
   ],
   "source": [
    "# Input bilangan bulat positif dari pengguna\n",
    "n = int(input(\"Masukkan bilangan bulat positif: \"))\n",
    "\n",
    "# Inisialisasi hasil dengan nilai awal 1\n",
    "hasil = 1\n",
    "\n",
    "# Hitung faktorial\n",
    "for i in range(1, n + 1):\n",
    "    hasil *= i\n",
    "\n",
    "# Cetak hasil\n",
    "print(f\"Faktorial dari {n} adalah {hasil}\")"
   ]
  },
  {
   "cell_type": "markdown",
   "id": "9bbc9367-e48e-4ca4-accb-f1e92b61abb1",
   "metadata": {},
   "source": [
    "## Tugas Minggu 4"
   ]
  },
  {
   "cell_type": "code",
   "execution_count": 24,
   "id": "dc33c5b1-8ee8-4b7d-83bc-8ab7774a1255",
   "metadata": {},
   "outputs": [
    {
     "name": "stdin",
     "output_type": "stream",
     "text": [
      "Pendapatan gaji per jam:  5000\n",
      "Pendapatan jumlah jam kerja dalam 1 minggu:  70000\n"
     ]
    },
    {
     "name": "stdout",
     "output_type": "stream",
     "text": [
      "Pendapatan Budi selama libur musim panas sebelum melakukan  pembayaran pajak adalah  1750000000.0\n",
      "Pendapatan Budi selama libur musim panas setelah melakukan pembayaran pajak adalah 1505000000.0\n",
      "Jumlah uang yang akan Budi habiskan untuk membeli pakaian dan aksesoris adalah  150500000.0\n",
      "Jumlah uang yang akan Budi habiskan untuk membeli alat tulis adalah 15050000.0\n",
      "Jumlah uang yang akan Budi sedekahkan adalah 334862500.0\n",
      "Jumlah uang yang akan diterima anak yatim adalah 100458750.0\n",
      "Jumlah uang yang akan diterima kaum dhuafa adalah 234403750.0\n",
      "Jumlah sisa uang akhir budi adalah 1004587500.0\n"
     ]
    }
   ],
   "source": [
    "gajiperjam = float(input(\"Pendapatan gaji per jam: \"))\n",
    "jamkerja = int(input(\"Pendapatan jumlah jam kerja dalam 1 minggu: \"))\n",
    "hasil = (gajiperjam*jamkerja)\n",
    "gajikotor = gajiperjam * jamkerja * 5\n",
    "pajak = gajikotor * 0.14\n",
    "gajibersih = gajikotor - pajak\n",
    "pengeluaranbajuaksesoris = gajibersih * 0.1\n",
    "pengeluaranalattulis = gajibersih * 0.01\n",
    "sisauang = gajibersih - pengeluaranbajuaksesoris - pengeluaranalattulis\n",
    "sedekah = sisauang * 0.25\n",
    "sedekahanakyatim = sedekah * 0.3\n",
    "sedekahdhuafa = sedekah * 0.7\n",
    "sisaakhiruang = sisauang - (sedekahanakyatim + sedekahdhuafa)\n",
    "\n",
    "print(\"Pendapatan Budi selama libur musim panas sebelum melakukan  pembayaran pajak adalah \", gajikotor) \n",
    "print(\"Pendapatan Budi selama libur musim panas setelah melakukan pembayaran pajak adalah\", gajibersih) \n",
    "print(\"Jumlah uang yang akan Budi habiskan untuk membeli pakaian dan aksesoris adalah \", pengeluaranbajuaksesoris)\n",
    "print(\"Jumlah uang yang akan Budi habiskan untuk membeli alat tulis adalah\",   pengeluaranalattulis)\n",
    "print(\"Jumlah uang yang akan Budi sedekahkan adalah\", sedekah)\n",
    "print(\"Jumlah uang yang akan diterima anak yatim adalah\",sedekahanakyatim)\n",
    "print(\"Jumlah uang yang akan diterima kaum dhuafa adalah\",sedekahdhuafa)\n",
    "print(\"Jumlah sisa uang akhir budi adalah\",sisaakhiruang)"
   ]
  },
  {
   "cell_type": "markdown",
   "id": "6d455742-17bf-4ac1-9b72-e9f25780accb",
   "metadata": {},
   "source": [
    "# Minggu 5\n",
    "## Perulangan dengan For Loop\n",
    "\n",
    "Tugas utama komputer adalah melakukan suatu instruksi/proses secara berulang dan terus-menerus tanpa adanya perbedaan.\n",
    "Hal ini berbeda dengan manusia yang bila melakukan hal sama secara berulang bisa melakukan kesalahan.\n",
    "Setiap baris instruksi dieksekusi satu persatu\n",
    "Satu atau lebih instruksi bisa dieksekusi berulang kali\n",
    "\n",
    "Syarat Perulangan:\n",
    "Perulangan harus berhenti\n",
    "Apabila perulangan tidak pernah berhenti, maka algoritmanya salah (proses lama ≠ tidak pernah berhenti)\n",
    "Pemrogram harus mengetahui perulangan akan berhenti/tidak sebelum program dijalankan\n",
    "\n",
    "Jenis Instruksi Perulangan:\n",
    "Berdasarkan jumlah iterasi\n",
    "Berdasarkan kondisi (kapan harus diulangi/berhenti)"
   ]
  },
  {
   "cell_type": "markdown",
   "id": "b3082dfc-6a13-45fa-9c8f-646c5732b1ef",
   "metadata": {},
   "source": [
    "## Contoh Perulangan "
   ]
  },
  {
   "cell_type": "code",
   "execution_count": 31,
   "id": "40747f00-0619-483b-8b32-a6a95710f6f7",
   "metadata": {},
   "outputs": [
    {
     "name": "stdin",
     "output_type": "stream",
     "text": [
      "masukkan data 6\n",
      "masukkan data 5\n",
      "masukkan data 5\n",
      "masukkan data 5\n",
      "masukkan data 5\n"
     ]
    },
    {
     "name": "stdout",
     "output_type": "stream",
     "text": [
      "hasil [6, 5, 5, 5, 5]\n"
     ]
    }
   ],
   "source": [
    "x=[]\n",
    "n=5\n",
    "for i in range(n):\n",
    "    x.append (int(input(\"masukkan data\")))\n",
    "print (\"hasil\", x)"
   ]
  },
  {
   "cell_type": "code",
   "execution_count": 33,
   "id": "5d24d08f-da20-47b1-8c19-020a95a01b2d",
   "metadata": {},
   "outputs": [
    {
     "name": "stdout",
     "output_type": "stream",
     "text": [
      "4\n",
      "3\n",
      "2\n",
      "1\n",
      "0\n",
      "perulangan berakhir\n"
     ]
    }
   ],
   "source": [
    "for i in range(5):\n",
    "    print(1-i+3)\n",
    "else:\n",
    "    print(\"perulangan berakhir\")"
   ]
  },
  {
   "cell_type": "code",
   "execution_count": 35,
   "id": "c7b66953-172e-4a4a-bbae-8c91771e6132",
   "metadata": {},
   "outputs": [
    {
     "name": "stdout",
     "output_type": "stream",
     "text": [
      "1\n",
      "3\n",
      "5\n",
      "7\n",
      "9\n"
     ]
    }
   ],
   "source": [
    "for i in range(1,10,2):\n",
    "    print(i)"
   ]
  },
  {
   "cell_type": "code",
   "execution_count": 37,
   "id": "0cca256e-0db3-4fb5-9558-fcaf325f3d27",
   "metadata": {},
   "outputs": [
    {
     "name": "stdout",
     "output_type": "stream",
     "text": [
      "b\n",
      "a\n",
      "n\n",
      "a\n",
      "n\n",
      "a\n"
     ]
    }
   ],
   "source": [
    "for i in \"banana\":\n",
    "    print(i)"
   ]
  },
  {
   "cell_type": "code",
   "execution_count": 39,
   "id": "98bc2521-5cd8-46dc-9ff5-06a1887fb839",
   "metadata": {},
   "outputs": [
    {
     "name": "stdout",
     "output_type": "stream",
     "text": [
      "1\n",
      "3\n",
      "8\n",
      "10\n"
     ]
    }
   ],
   "source": [
    "data_list=(1,3,8,10)\n",
    "for i in data_list:\n",
    "    print(i)"
   ]
  },
  {
   "cell_type": "code",
   "execution_count": 41,
   "id": "64ce438e-9c62-487f-bde4-eb5328c4037c",
   "metadata": {},
   "outputs": [
    {
     "name": "stdout",
     "output_type": "stream",
     "text": [
      "0\n",
      "1\n",
      "2\n",
      "3\n"
     ]
    }
   ],
   "source": [
    "data_list = [1,3,8,10]\n",
    "n = 4\n",
    "for i in range(len(data_list)):\n",
    "    print (i)"
   ]
  },
  {
   "cell_type": "code",
   "execution_count": 43,
   "id": "d2f9f6d0-9483-41c2-9bca-788661223564",
   "metadata": {},
   "outputs": [
    {
     "name": "stdout",
     "output_type": "stream",
     "text": [
      "2\n",
      "4\n",
      "6\n",
      "8\n",
      "10\n",
      "12\n",
      "14\n",
      "16\n",
      "18\n",
      "20\n"
     ]
    }
   ],
   "source": [
    "data_list = (2,4,6,8,10,12,14,16,18,20)\n",
    "for i in data_list:\n",
    "    print (i)"
   ]
  },
  {
   "cell_type": "code",
   "execution_count": 45,
   "id": "8ddd9355-01aa-42c5-a70f-46c51ab3bc42",
   "metadata": {},
   "outputs": [
    {
     "name": "stdout",
     "output_type": "stream",
     "text": [
      "2\n",
      "4\n",
      "6\n",
      "8\n",
      "10\n",
      "12\n",
      "14\n",
      "16\n",
      "18\n"
     ]
    }
   ],
   "source": [
    "for i in range(2,20,2):\n",
    "    print(i)"
   ]
  },
  {
   "cell_type": "code",
   "execution_count": 47,
   "id": "79fb2856-dc10-4843-853f-0b7fe53b3394",
   "metadata": {},
   "outputs": [
    {
     "name": "stdout",
     "output_type": "stream",
     "text": [
      "hasil penjumlahan dari angka 1 sampai 10 adalah: 10\n"
     ]
    }
   ],
   "source": [
    "penjumlahan = 0\n",
    "for i in range(1,11):\n",
    "    penjumlahan=penjumlahan+1\n",
    "print(\"hasil penjumlahan dari angka 1 sampai 10 adalah:\", penjumlahan)"
   ]
  },
  {
   "cell_type": "code",
   "execution_count": 49,
   "id": "0a928741-9db6-4902-96fc-7e7c01bf326e",
   "metadata": {},
   "outputs": [
    {
     "name": "stdin",
     "output_type": "stream",
     "text": [
      "masukkan jumlah data: 5\n",
      "masukkan data:  7\n",
      "masukkan data:  8\n",
      "masukkan data:  9\n",
      "masukkan data:  10\n",
      "masukkan data:  2\n"
     ]
    },
    {
     "name": "stdout",
     "output_type": "stream",
     "text": [
      "data kamu adalah [7.0, 8.0, 9.0, 10.0, 2.0]\n"
     ]
    }
   ],
   "source": [
    "n=int(input(\"masukkan jumlah data:\"))\n",
    "list_data=[float(input(\"masukkan data: \")) for _ in range(n)]\n",
    "print(\"data kamu adalah\", list_data)"
   ]
  },
  {
   "cell_type": "code",
   "execution_count": 51,
   "id": "928751ea-623e-446e-ac88-c52f0aafdd7f",
   "metadata": {},
   "outputs": [
    {
     "name": "stdout",
     "output_type": "stream",
     "text": [
      "1 * 1 = 1\n",
      "\n",
      "Terima kasih!\n",
      "1 * 2 = 2\n",
      "\n",
      "Terima kasih!\n",
      "1 * 3 = 3\n",
      "\n",
      "Terima kasih!\n",
      "1 * 4 = 4\n",
      "\n",
      "Terima kasih!\n",
      "1 * 5 = 5\n",
      "\n",
      "Terima kasih!\n",
      "1 * 6 = 6\n",
      "\n",
      "Terima kasih!\n",
      "1 * 7 = 7\n",
      "\n",
      "Terima kasih!\n",
      "1 * 8 = 8\n",
      "\n",
      "Terima kasih!\n",
      "1 * 9 = 9\n",
      "\n",
      "Terima kasih!\n",
      "1 * 10 = 10\n",
      "\n",
      "Terima kasih!\n",
      "2 * 1 = 2\n",
      "\n",
      "Terima kasih!\n",
      "2 * 2 = 4\n",
      "\n",
      "Terima kasih!\n",
      "2 * 3 = 6\n",
      "\n",
      "Terima kasih!\n",
      "2 * 4 = 8\n",
      "\n",
      "Terima kasih!\n",
      "2 * 5 = 10\n",
      "\n",
      "Terima kasih!\n",
      "2 * 6 = 12\n",
      "\n",
      "Terima kasih!\n",
      "2 * 7 = 14\n",
      "\n",
      "Terima kasih!\n",
      "2 * 8 = 16\n",
      "\n",
      "Terima kasih!\n",
      "2 * 9 = 18\n",
      "\n",
      "Terima kasih!\n",
      "2 * 10 = 20\n",
      "\n",
      "Terima kasih!\n"
     ]
    }
   ],
   "source": [
    "for i in range(1,3):\n",
    "    for j in range(1,11):\n",
    "        print(i,\"*\",j,\"=\",i*j)\n",
    "        print()\n",
    "        print(\"Terima kasih!\")"
   ]
  },
  {
   "cell_type": "code",
   "execution_count": 53,
   "id": "2eb56046-086d-4443-b333-858ec5aba545",
   "metadata": {},
   "outputs": [
    {
     "name": "stdin",
     "output_type": "stream",
     "text": [
      "masukkan data: 5\n"
     ]
    },
    {
     "name": "stdout",
     "output_type": "stream",
     "text": [
      "data kamu adalah [5.0]\n"
     ]
    },
    {
     "name": "stdin",
     "output_type": "stream",
     "text": [
      "masukkan data: 6\n"
     ]
    },
    {
     "name": "stdout",
     "output_type": "stream",
     "text": [
      "data kamu adalah [5.0, 6.0]\n"
     ]
    },
    {
     "name": "stdin",
     "output_type": "stream",
     "text": [
      "masukkan data: 7\n"
     ]
    },
    {
     "name": "stdout",
     "output_type": "stream",
     "text": [
      "data kamu adalah [5.0, 6.0, 7.0]\n"
     ]
    },
    {
     "name": "stdin",
     "output_type": "stream",
     "text": [
      "masukkan data: 8\n"
     ]
    },
    {
     "name": "stdout",
     "output_type": "stream",
     "text": [
      "data kamu adalah [5.0, 6.0, 7.0, 8.0]\n"
     ]
    },
    {
     "name": "stdin",
     "output_type": "stream",
     "text": [
      "masukkan data: 9\n"
     ]
    },
    {
     "name": "stdout",
     "output_type": "stream",
     "text": [
      "data kamu adalah [5.0, 6.0, 7.0, 8.0, 9.0]\n"
     ]
    }
   ],
   "source": [
    "list_data=[]\n",
    "for i in range(5):\n",
    "    list_data.append(float(input(\"masukkan data:\")))\n",
    "    print(\"data kamu adalah\",list_data)"
   ]
  },
  {
   "cell_type": "code",
   "execution_count": 55,
   "id": "15a5a2e5-a65f-419f-a830-afdb85db8f4f",
   "metadata": {},
   "outputs": [
    {
     "name": "stdin",
     "output_type": "stream",
     "text": [
      "masukkan jumlah baris: 5\n"
     ]
    },
    {
     "name": "stdout",
     "output_type": "stream",
     "text": [
      "1   \n",
      "1 2   \n",
      "1 2 3   \n",
      "1 2 3 4   \n",
      "1 2 3 4 5   \n"
     ]
    }
   ],
   "source": [
    "n=int(input(\"masukkan jumlah baris:\"))\n",
    "for i in range(n):\n",
    "    for j in range(i+1):\n",
    "        print(j+1,end=\" \")\n",
    "    print('  ')"
   ]
  },
  {
   "cell_type": "code",
   "execution_count": 57,
   "id": "f52a32ef-dbbd-4ebf-a9c2-fa6c152744fc",
   "metadata": {},
   "outputs": [
    {
     "name": "stdout",
     "output_type": "stream",
     "text": [
      "1\n",
      "2\n",
      "3\n",
      "4\n",
      "5\n"
     ]
    }
   ],
   "source": [
    "i=1\n",
    "while i<6:\n",
    "    print(i)\n",
    "    i+=1"
   ]
  },
  {
   "cell_type": "code",
   "execution_count": 59,
   "id": "7bca91d8-9dad-491b-932d-d23633d5defb",
   "metadata": {},
   "outputs": [
    {
     "name": "stdin",
     "output_type": "stream",
     "text": [
      "ulangi lagi tidak? ya\n",
      "ulangi lagi tidak? tidak\n"
     ]
    },
    {
     "name": "stdout",
     "output_type": "stream",
     "text": [
      "total perulangan: 2\n"
     ]
    }
   ],
   "source": [
    "jawab = 'ya'\n",
    "hitung = 0\n",
    "while (True):\n",
    "    hitung=hitung+1\n",
    "    jawab=input(\"ulangi lagi tidak?\")\n",
    "    if jawab=='tidak':\n",
    "        break\n",
    "print(\"total perulangan:\", hitung)\n"
   ]
  },
  {
   "cell_type": "code",
   "execution_count": 61,
   "id": "45b4d304-937a-4e98-a741-a0e067c379c9",
   "metadata": {},
   "outputs": [
    {
     "name": "stdin",
     "output_type": "stream",
     "text": [
      "masukkan banyaknya bilangan: 6\n"
     ]
    },
    {
     "name": "stdout",
     "output_type": "stream",
     "text": [
      "0\n",
      "1\n",
      "1\n",
      "2\n",
      "3\n",
      "5\n"
     ]
    }
   ],
   "source": [
    "banyak_bilangan = int(input(\"masukkan banyaknya bilangan:\")) #4\n",
    "count = 0\n",
    "b1 = 0\n",
    "b2 = 1\n",
    "\n",
    "while count < banyak_bilangan:\n",
    "    print(b1)\n",
    "    sum= b1+b2\n",
    "    b1=b2\n",
    "    b2=sum\n",
    "    count += 1"
   ]
  },
  {
   "cell_type": "markdown",
   "id": "aacf86cb-a775-4dd9-b6d3-2f03b4b3d9e2",
   "metadata": {},
   "source": [
    "# Minggu 6 (QUIZ)"
   ]
  },
  {
   "cell_type": "code",
   "execution_count": 81,
   "id": "71280948-046b-4e8e-97fb-5ccb0cf2c1dc",
   "metadata": {},
   "outputs": [
    {
     "name": "stdout",
     "output_type": "stream",
     "text": [
      "Rata-rata jumlah pengunjung per hari : 30.71\n",
      "Total pengujung selama seminggu : 215\n",
      "Hari dengan pengunjung terbanyak : Sabtu dengan pengunjung 50\n"
     ]
    }
   ],
   "source": [
    "list = [[\"Senin\", 20],[\"Selasa\", 25],[\"Rabu\", 30],[\"Kamis\", 15],[\"Jumat\", 40],[\"Sabtu\", 50],[\"Minggu\", 35]]\n",
    "\n",
    "total_pengunjung = 0\n",
    "hari_terbanyak = \"\" \n",
    "pengunjung_terbanyak = 0\n",
    "\n",
    "for hari, pengunjung in list:\n",
    "    total_pengunjung += pengunjung\n",
    "    if pengunjung > pengunjung_terbanyak:\n",
    "        hari_terbanyak = hari\n",
    "        pengunjung_terbanyak = pengunjung\n",
    "\n",
    "rata_rata = total_pengunjung / len(list)\n",
    "print(f\"Rata-rata jumlah pengunjung per hari : {rata_rata:.2f}\")\n",
    "print(f\"Total pengujung selama seminggu : {total_pengunjung}\")\n",
    "print(f\"Hari dengan pengunjung terbanyak : {hari_terbanyak} dengan pengunjung {pengunjung_terbanyak}\")"
   ]
  },
  {
   "cell_type": "markdown",
   "id": "9c389317-cfe7-4c7a-b22c-cfa6d4bb4040",
   "metadata": {},
   "source": [
    "# Minggu 7 Percabangan\n"
   ]
  },
  {
   "cell_type": "code",
   "execution_count": 65,
   "id": "a5d175b3-dba8-48ef-a99e-348949fe3488",
   "metadata": {},
   "outputs": [
    {
     "name": "stdin",
     "output_type": "stream",
     "text": [
      "masukkan bilangan 4\n"
     ]
    },
    {
     "name": "stdout",
     "output_type": "stream",
     "text": [
      "4adalah bilangan genap\n"
     ]
    }
   ],
   "source": [
    "bilangan = int(input(\"masukkan bilangan\"))\n",
    "if bilangan % 2 == 0:\n",
    "    print(f\"{bilangan}adalah bilangan genap\")\n",
    "elif bilangan % 2 == 1:\n",
    "    print(f\"{bilangan}adalah bilangan ganjil\")\n",
    "elif bilangan / 5 == 0:\n",
    "    print(f\"{bilangan}adalah bilangan kelipatan 5\")"
   ]
  },
  {
   "cell_type": "code",
   "execution_count": 67,
   "id": "f1d5314c-59f9-4c43-9777-2a245e9dd688",
   "metadata": {},
   "outputs": [
    {
     "name": "stdin",
     "output_type": "stream",
     "text": [
      "masukkan bilangan a:  2\n",
      "masukkan bilangan b:  4\n"
     ]
    },
    {
     "name": "stdout",
     "output_type": "stream",
     "text": [
      "2 bilangan genap\n",
      "4 bilangan genap\n",
      "2 lebih kecil dari 4\n"
     ]
    }
   ],
   "source": [
    "bil_a=int(input(\"masukkan bilangan a: \"))\n",
    "bil_b=int(input(\"masukkan bilangan b: \"))\n",
    "\n",
    "if bil_a % 2 == 0:\n",
    "    print(f\"{bil_a} bilangan genap\")\n",
    "else:\n",
    "    print(f\"{bil_a} bilangan ganjil\")\n",
    "if bil_b % 2 == 0:\n",
    "    print(f\"{bil_b} bilangan genap\")\n",
    "else:\n",
    "    print(f\"{bil_b} bilangan ganjil\")\n",
    "if bil_a>bil_b:\n",
    "    print(f\"{bil_a} lebih besar dari {bil_b}\")\n",
    "else:\n",
    "    print(f\"{bil_a} lebih kecil dari {bil_b}\")"
   ]
  },
  {
   "cell_type": "code",
   "execution_count": null,
   "id": "9d866a0d-509f-44db-81d9-8b6c2dfb8ad7",
   "metadata": {},
   "outputs": [],
   "source": []
  },
  {
   "cell_type": "code",
   "execution_count": 69,
   "id": "ef6f1085-9b49-48e6-9c11-1d4becfb2f5e",
   "metadata": {},
   "outputs": [
    {
     "name": "stdin",
     "output_type": "stream",
     "text": [
      "nilai 70\n"
     ]
    },
    {
     "name": "stdout",
     "output_type": "stream",
     "text": [
      "grade B\n"
     ]
    }
   ],
   "source": [
    "nilai = int(input(\"nilai\"))\n",
    "if nilai >=90:\n",
    "    print(\"grade A\")\n",
    "elif nilai >=80:\n",
    "    print(\"grade B+\")\n",
    "elif nilai >=70:\n",
    "    print(\"grade B\")\n",
    "elif nilai >=60:\n",
    "    print(\"grade C+\")\n",
    "elif nilai >=50:\n",
    "    print(\"grade C\")\n",
    "elif nilai >=40:\n",
    "    print(\"grade D\")\n",
    "elif nilai >=30:\n",
    "    print(\"grade E\")"
   ]
  },
  {
   "cell_type": "code",
   "execution_count": 85,
   "id": "46a2b580-644f-462f-b60b-f95018452b9d",
   "metadata": {},
   "outputs": [
    {
     "name": "stdin",
     "output_type": "stream",
     "text": [
      "masukkan nilai 89\n",
      "masukkan kehadiran 90\n"
     ]
    },
    {
     "name": "stdout",
     "output_type": "stream",
     "text": [
      "sangat memuaskan\n"
     ]
    }
   ],
   "source": [
    "nilai = int(input(\"masukkan nilai\"))\n",
    "kehadiran = int(input(\"masukkan kehadiran\"))\n",
    "\n",
    "if nilai >= 80:\n",
    "    if kehadiran >= 90:\n",
    "        print(\"sangat memuaskan\")\n",
    "    elif kehadiran >=75 and kehadiran <= 90:\n",
    "        print(\"memuaskan\")\n",
    "    elif kehadiran <= 75:\n",
    "        print(\"cukup\")\n",
    "\n",
    "elif nilai >=60 and nilai <=80:\n",
    "    if kehadiran >75:\n",
    "        print(\"cukup\")\n",
    "    if kehadiran <=75:\n",
    "        print(\"perlu perbaikan\")\n",
    "\n",
    "elif nilai <= 60:\n",
    "     print(\"tidaklulus\")"
   ]
  },
  {
   "cell_type": "markdown",
   "id": "95b54177-a833-4874-bf5e-08f4572b78f5",
   "metadata": {},
   "source": [
    "# Minggu 8 UTS dan Minggu 9 Membahas Soal UTS Dari Kelas DS-04-01 dan DS-04-02"
   ]
  },
  {
   "cell_type": "code",
   "execution_count": 90,
   "id": "e8584940-eae4-49c0-b20d-cd0325c4821e",
   "metadata": {},
   "outputs": [
    {
     "name": "stdout",
     "output_type": "stream",
     "text": [
      "Siswa 1: Predikat \"Sangat Baik\"\n",
      "Siswa 2: Predikat \"Baik\"\n",
      "Siswa 3: Predikat \"Kurang\"\n",
      "Siswa 4: Predikat \"Cukup\"\n",
      "Siswa 5: Predikat \"Sangat Baik\"\n",
      "Siswa 6: Predikat \"Baik\"\n",
      "Siswa 7: Predikat \"Kurang\"\n",
      "Siswa 8: Predikat \"Cukup\"\n",
      "Siswa 9: Predikat \"Sangat Baik\"\n",
      "Siswa 10: Predikat \"Sangat Baik\"\n"
     ]
    }
   ],
   "source": [
    "nilai_siswa = [85, 76, 54, 62, 90, 73, 45, 68, 88, 80]\n",
    "siswa_ke = 0\n",
    "\n",
    "for n in nilai_siswa:\n",
    "    siswa_ke += 1\n",
    "    if n >= 80:\n",
    "        print(f'Siswa {siswa_ke}: Predikat \"Sangat Baik\"')\n",
    "    elif n >= 70 and n <= 79:\n",
    "        print(f'Siswa {siswa_ke}: Predikat \"Baik\"')\n",
    "    elif n >= 60 and n <= 69:\n",
    "        print(f'Siswa {siswa_ke}: Predikat \"Cukup\"')\n",
    "    else:\n",
    "        print(f'Siswa {siswa_ke}: Predikat \"Kurang\"')"
   ]
  },
  {
   "cell_type": "code",
   "execution_count": 93,
   "id": "4e89c639-5737-4010-89a2-3d571bbf8f30",
   "metadata": {},
   "outputs": [
    {
     "name": "stdout",
     "output_type": "stream",
     "text": [
      "1 2 Fizz 4 5 Fizz 7 8 Fizz "
     ]
    }
   ],
   "source": [
    "for i in range(1,10):\n",
    "    if i % 3 == 0:\n",
    "        print(\"Fizz\", end=\" \")\n",
    "    else:\n",
    "        print(i, end=\" \")"
   ]
  },
  {
   "cell_type": "code",
   "execution_count": 95,
   "id": "71419acd-b88b-45f4-9372-a819ba67ba08",
   "metadata": {},
   "outputs": [
    {
     "name": "stdout",
     "output_type": "stream",
     "text": [
      "Total harga: 7600.0\n"
     ]
    }
   ],
   "source": [
    "jumlah_barang = 8\n",
    "harga_per_unit = 1000\n",
    "if jumlah_barang>10:\n",
    "    total = jumlah_barang * harga_per_unit * 0.9\n",
    "elif jumlah_barang>5:\n",
    "    total = jumlah_barang * harga_per_unit * 0.95\n",
    "else:\n",
    "    total = jumlah_barang * harga_per_unit\n",
    "print(\"Total harga:\", total)"
   ]
  },
  {
   "cell_type": "code",
   "execution_count": 97,
   "id": "42d1439f-d011-43c6-9e50-d260e58a4d33",
   "metadata": {},
   "outputs": [
    {
     "name": "stdout",
     "output_type": "stream",
     "text": [
      "0 \n",
      "1 2 \n",
      "2 3 4 \n",
      "3 4 5 6 \n"
     ]
    }
   ],
   "source": [
    "n = 4\n",
    "for i in range(n):\n",
    "    for j in range(i + 1):\n",
    "        print(i+j, end=\" \")\n",
    "    print()"
   ]
  },
  {
   "cell_type": "code",
   "execution_count": 99,
   "id": "cad97e29-24c5-4c55-a6d7-8170df6383d2",
   "metadata": {},
   "outputs": [
    {
     "name": "stdout",
     "output_type": "stream",
     "text": [
      "50 25 12 6 3 "
     ]
    }
   ],
   "source": [
    "x = 50\n",
    "while x>1:\n",
    "    print(x, end=\" \")\n",
    "    x//=2"
   ]
  },
  {
   "cell_type": "markdown",
   "id": "2b30c77e-9785-4f93-ab11-f90c294f3187",
   "metadata": {},
   "source": [
    "# Minggu 10 (Membuat Soal Mandiri)"
   ]
  },
  {
   "cell_type": "markdown",
   "id": "7fc30c27-b651-48a4-ad56-9198d0cfa32a",
   "metadata": {},
   "source": [
    "## SOAL PERTAMA \n",
    "Sebuah perusahaan memiliki sistem penghitungan jadwal kerja harian. Jika hari kerja adalah Senin hingga Jumat, karyawan harus bekerja selama 7 jam sehari. Jika hari Sabtu, karyawan bekerja selama 3 jam, dan pada hari Minggu karyawan libur. Buatlah program untuk menentukan total jam kerja dalam seminggu berdasarkan input jumlah hari kerja aktual (Senin hingga Sabtu).\n",
    "\n"
   ]
  },
  {
   "cell_type": "code",
   "execution_count": 103,
   "id": "b418deb1-cbfd-4a01-a4e4-6cc085df2c4d",
   "metadata": {},
   "outputs": [
    {
     "name": "stdin",
     "output_type": "stream",
     "text": [
      "Masukkan jumlah hari kerja (0-6):  6\n"
     ]
    },
    {
     "name": "stdout",
     "output_type": "stream",
     "text": [
      "Total jam kerja dalam seminggu: 38 jam\n"
     ]
    }
   ],
   "source": [
    "hari_kerja = int(input(\"Masukkan jumlah hari kerja (0-6): \"))\n",
    "total_jam_kerja = 0\n",
    "\n",
    "for i in range(hari_kerja):\n",
    "  if i < 5:\n",
    "    total_jam_kerja += 7\n",
    "  elif i == 5:\n",
    "    total_jam_kerja += 3\n",
    "\n",
    "print(f\"Total jam kerja dalam seminggu: {total_jam_kerja} jam\")"
   ]
  },
  {
   "cell_type": "markdown",
   "id": "c9aa4ad1-eb52-4546-a03a-0cfe50a06670",
   "metadata": {},
   "source": [
    "## SOAL KEDUA\n",
    "n.\r\n",
    "\r\n"
   ]
  },
  {
   "cell_type": "code",
   "execution_count": null,
   "id": "dd112df1-3e2c-4b07-b730-6e27365b98e2",
   "metadata": {},
   "outputs": [],
   "source": []
  }
 ],
 "metadata": {
  "kernelspec": {
   "display_name": "Python 3 (ipykernel)",
   "language": "python",
   "name": "python3"
  },
  "language_info": {
   "codemirror_mode": {
    "name": "ipython",
    "version": 3
   },
   "file_extension": ".py",
   "mimetype": "text/x-python",
   "name": "python",
   "nbconvert_exporter": "python",
   "pygments_lexer": "ipython3",
   "version": "3.12.4"
  }
 },
 "nbformat": 4,
 "nbformat_minor": 5
}
